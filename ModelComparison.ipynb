{
 "cells": [
  {
   "metadata": {},
   "cell_type": "markdown",
   "source": "# Gaussian (RBF kernel) SVM Model",
   "id": "825c306ef3a4ea9c"
  },
  {
   "metadata": {
    "ExecuteTime": {
     "end_time": "2024-10-23T14:58:46.224954Z",
     "start_time": "2024-10-23T14:58:46.221310Z"
    }
   },
   "cell_type": "code",
   "source": [
    "import pandas as pd\n",
    "import numpy as np\n",
    "from scipy.special import logit\n",
    "from sklearn import preprocessing\n",
    "from sklearn.svm import SVC\n",
    "from sklearn.model_selection import train_test_split\n",
    "from sklearn.metrics import accuracy_score, precision_score, recall_score, cohen_kappa_score, confusion_matrix\n",
    "from sklearn.linear_model import LogisticRegression\n",
    "from sklearn.feature_selection import SequentialFeatureSelector\n",
    "from sklearn.ensemble import RandomForestClassifier, GradientBoostingClassifier\n",
    "from sklearn.inspection import DecisionBoundaryDisplay\n",
    "from sklearn import tree\n",
    "from matplotlib.colors import ListedColormap\n",
    "\n",
    "import matplotlib.pyplot as plt\n",
    "import seaborn as sns"
   ],
   "id": "980f0cac7bb4568a",
   "outputs": [],
   "execution_count": 36
  },
  {
   "metadata": {
    "ExecuteTime": {
     "end_time": "2024-10-23T14:58:50.960467Z",
     "start_time": "2024-10-23T14:58:50.957157Z"
    }
   },
   "cell_type": "code",
   "source": [
    "test_size = 0.2\n",
    "seed = 0"
   ],
   "id": "5aee7ddba80a1340",
   "outputs": [],
   "execution_count": 37
  },
  {
   "metadata": {
    "ExecuteTime": {
     "end_time": "2024-10-23T14:58:51.937784Z",
     "start_time": "2024-10-23T14:58:51.915045Z"
    }
   },
   "cell_type": "code",
   "source": [
    "# Load, transform and scale data\n",
    "train_file_path = 'project_train.csv'\n",
    "\n",
    "data_train = pd.read_csv(train_file_path)\n",
    "\n",
    "features_needed = ['danceability','speechiness', 'liveness', 'loudness']  # Based on the feature selection process described in the report\n",
    "\n",
    "training_set = data_train[features_needed + ['Label']]\n",
    "\n",
    "rows_to_remove = [68, 84, 94]  # 68: speechiness outlier, 84: energy false data, 94: loudness false data\n",
    "\n",
    "training_set = training_set.drop(rows_to_remove)\n",
    "training_set = training_set.reset_index(drop=True)\n",
    "\n",
    "# Transformation and scaling\n",
    "vars_to_transform = [\n",
    "    \"speechiness\",\n",
    "    \"danceability\",\n",
    "    \"liveness\"\n",
    "]\n",
    "\n",
    "training_set_transformed = training_set.copy()\n",
    "training_set_transformed[vars_to_transform] = training_set_transformed[vars_to_transform].transform(logit)\n",
    "training_set_transformed[vars_to_transform + ['loudness']] = preprocessing.scale(training_set_transformed[vars_to_transform + ['loudness']])\n",
    "\n",
    "# Split to test and train set, train model and predict\n",
    "predictors_train_svm, predictors_test_svm, response_train_svm, response_test_svm = train_test_split(training_set_transformed[features_needed], training_set_transformed['Label'], test_size=test_size, random_state=seed)\n",
    "\n",
    "model = SVC(kernel='rbf', random_state=0)\n",
    "model.fit(predictors_train_svm, response_train_svm)\n",
    "\n",
    "response_svm = model.predict(predictors_test_svm)\n",
    "\n",
    "accuracy_svm = accuracy_score(response_test_svm, response_svm)\n",
    "precision_svm = precision_score(response_test_svm, response_svm)\n",
    "recall_svm = recall_score(response_test_svm, response_svm)\n",
    "kappa_svm = cohen_kappa_score(response_test_svm, response_svm)\n",
    "\n",
    "# Compute confusion matrix\n",
    "cm_SVM = confusion_matrix(response_test_svm, response_svm)"
   ],
   "id": "c924a062597ee765",
   "outputs": [],
   "execution_count": 38
  },
  {
   "metadata": {},
   "cell_type": "markdown",
   "source": "# Regression model",
   "id": "57783b473fbe55bb"
  },
  {
   "metadata": {
    "ExecuteTime": {
     "end_time": "2024-10-23T14:47:19.025349Z",
     "start_time": "2024-10-23T14:47:04.156268Z"
    }
   },
   "cell_type": "code",
   "source": [
    "def generate_train_test_split(df, vars_to_drop=[]):\n",
    "    \"\"\"\n",
    "    This function generates a (seeded) 80/20 train test split for the spotify data with the categorical \"key\" and \"mode\" are\n",
    "    transformed to dummy variables, with no interaction terms included.\n",
    "\n",
    "    Params:\n",
    "    -------\n",
    "    df : pandas.DataFrame\n",
    "        The columns should include each of the columns of the original data frame of song data.\n",
    "    vars_to_drop : list\n",
    "        A list of labels containing variables not to be included in the model.\n",
    "\n",
    "    Returns:\n",
    "    --------\n",
    "    (pandas.DataFrame, pandas.DataFrame, pandas.Series, pandas.Series):\n",
    "        A sequence of four data frames/series with the first two being the training and testing predictors\n",
    "        and the last two being the labels of the training data and testing data.\n",
    "    \"\"\"\n",
    "\n",
    "    all_predictors = df.drop(vars_to_drop + [\"Label\"], axis=1)\n",
    "    response = df[\"Label\"]\n",
    "\n",
    "    # We drop_first because one of the variables in each of key,\n",
    "    # mode is determined by the values of the others\n",
    "    # (for example mode != 0 implies mode = 1)\n",
    "    encoded_data = pd.get_dummies(\n",
    "        all_predictors, columns=[\"key\", \"mode\"], drop_first=True\n",
    "    )\n",
    "    return train_test_split(encoded_data, response, test_size=test_size, random_state=seed)\n",
    "\n",
    "## Data import and processing\n",
    "#############################\n",
    "\n",
    "train_file_path = 'project_train.csv'\n",
    "data_train = pd.read_csv(train_file_path)\n",
    "rows_to_remove = [84, 94]  # 84: energy false data, 94: loudness false data\n",
    "\n",
    "data = data_train.drop(rows_to_remove)\n",
    "data = data.reset_index(drop=True)\n",
    "\n",
    "vars_to_transform = [\n",
    "    \"danceability\",\n",
    "    \"energy\",\n",
    "    \"speechiness\",\n",
    "    \"acousticness\",\n",
    "    \"liveness\",\n",
    "    \"valence\",\n",
    "]\n",
    "\n",
    "transformed_data = data.copy()\n",
    "transformed_data[vars_to_transform] = transformed_data[vars_to_transform].transform(logit)\n",
    "\n",
    "scaled_data = transformed_data.copy()\n",
    "scaled_data[vars_to_transform + [\"loudness\", \"tempo\"]] = preprocessing.scale(\n",
    "    scaled_data[vars_to_transform + [\"loudness\", \"tempo\"]]\n",
    ")\n",
    "\n",
    "continuous_variables = [\n",
    "    \"danceability\",\n",
    "    \"energy\",\n",
    "    \"loudness\",\n",
    "    \"speechiness\",\n",
    "    \"acousticness\",\n",
    "    \"instrumentalness\",\n",
    "    \"liveness\",\n",
    "    \"valence\",\n",
    "    \"tempo\",\n",
    "]\n",
    "categorical_variables = [\"key\", \"mode\"]\n",
    "\n",
    "# We fit a model including all the variables in the previous models, all products of continuous variables (including squared variables) and an intercept.\n",
    "poly = preprocessing.PolynomialFeatures(2)\n",
    "continuous_interactions = pd.DataFrame(poly.fit_transform(scaled_data[continuous_variables]), columns=poly.get_feature_names_out())\n",
    "\n",
    "interaction_data = continuous_interactions.combine_first(scaled_data)\n",
    "interaction_data = interaction_data.reindex(continuous_interactions.columns.to_list() + categorical_variables + [\"Label\"], axis=1)\n",
    "\n",
    "# Scaling\n",
    "scaled_interaction_data = interaction_data.copy()\n",
    "scaled_interaction_data[interaction_data.columns[:-3]] = preprocessing.scale(\n",
    "    scaled_interaction_data[interaction_data.columns[:-3]]\n",
    ")\n",
    "\n",
    "predictors_train_regr, predictors_test_regr, response_train_regr, response_test_regr = (\n",
    "    generate_train_test_split(scaled_interaction_data)\n",
    ")\n",
    "\n",
    "\n",
    "# I also apply forward selection to a non-regularized logistic regression model.\n",
    "# The stopping condition is until we have 25 variables as per the guideline above. I would really like to use another more statistically motivated piece of model selection.\n",
    "model_no_penalty = LogisticRegression(penalty=None)\n",
    "sfs_no_penalty = SequentialFeatureSelector(\n",
    "    model_no_penalty, direction=\"forward\", n_features_to_select=25\n",
    ")\n",
    "\n",
    "sfs_no_penalty.fit(predictors_train_regr, response_train_regr)\n",
    "# sfs.get_support()\n",
    "selected_columns_no_penalty = sfs_no_penalty.get_feature_names_out()\n",
    "\n",
    "\n",
    "# Sequentially Selected Model Without Penalty term\n",
    "predictors_train_regr, predictors_test_regr = (\n",
    "    p[selected_columns_no_penalty] for p in (predictors_train_regr, predictors_test_regr)\n",
    ")\n",
    "scaled_interaction_model = LogisticRegression(penalty=None)\n",
    "scaled_interaction_model.fit(predictors_train_regr, response_train_regr)\n",
    "response_regr = scaled_interaction_model.predict(predictors_test_regr)\n",
    "\n",
    "accuracy_regr = accuracy_score(response_test_regr, response_regr)\n",
    "precision_regr = precision_score(response_test_regr, response_regr)\n",
    "recall_regr = recall_score(response_test_regr, response_regr)\n",
    "kappa_regr = cohen_kappa_score(response_test_regr, response_regr)\n",
    "\n",
    "# Compute confusion matrix\n",
    "cm_Regr = confusion_matrix(response_test_regr, response_regr)"
   ],
   "id": "47f4d52a33f3d505",
   "outputs": [],
   "execution_count": 27
  },
  {
   "metadata": {},
   "cell_type": "markdown",
   "source": "# Random forest",
   "id": "cbefe6468c8436c8"
  },
  {
   "metadata": {
    "ExecuteTime": {
     "end_time": "2024-10-23T14:47:34.062824Z",
     "start_time": "2024-10-23T14:47:33.942932Z"
    }
   },
   "cell_type": "code",
   "source": [
    "train_df = pd.read_csv(\"project_train.csv\")\n",
    "\n",
    "# Change values in mislabeled rows\n",
    "train_df.at[84, 'energy'] = 7.34e-02\n",
    "train_df.at[94, 'loudness'] = -6.542\n",
    "\n",
    "# Change from int to categorical (factor)\n",
    "train_df['key'] = train_df['key'].astype('category')\n",
    "train_df['mode'] = train_df['mode'].astype('category')\n",
    "train_df['Label'] = train_df['Label'].astype('category')\n",
    "\n",
    "# Split into train and test data\n",
    "predictors_train_rf, predictors_test_rf, response_train_rf, response_test_rf = train_test_split(train_df.drop(columns=['Label']), train_df['Label'], test_size=test_size, random_state=seed)                # Target variable\n",
    "\n",
    "# Create the Random Forest model\n",
    "model_rf = RandomForestClassifier(random_state=0)\n",
    "model_rf.fit(predictors_train_rf, response_train_rf)                   # Fit the model\n",
    "   \n",
    "# Predict on the test data\n",
    "response_rf = model_rf.predict(predictors_test_rf)\n",
    "\n",
    "accuracy_rf = accuracy_score(response_test_rf, response_rf)\n",
    "precision_rf = precision_score(response_test_rf, response_rf)\n",
    "recall_rf = recall_score(response_test_rf, response_rf)\n",
    "kappa_rf = cohen_kappa_score(response_test_rf, response_rf)\n",
    "\n",
    "cm_rf = confusion_matrix(response_test_rf, response_rf)"
   ],
   "id": "7b7a77ea85d1dcee",
   "outputs": [],
   "execution_count": 28
  },
  {
   "metadata": {},
   "cell_type": "markdown",
   "source": "# Gradient boosting",
   "id": "377afcd9b0d7148d"
  },
  {
   "metadata": {
    "ExecuteTime": {
     "end_time": "2024-10-23T14:47:55.532802Z",
     "start_time": "2024-10-23T14:47:54.941625Z"
    }
   },
   "cell_type": "code",
   "source": [
    "model_gbm = GradientBoostingClassifier(n_estimators=100, learning_rate=0.1, max_depth=9, random_state=0)\n",
    "model_gbm.fit(predictors_train_rf, response_train_rf)\n",
    "\n",
    "pred_gbm = model_gbm.predict(predictors_test_rf)\n",
    "\n",
    "response_gbm = model_gbm.predict(predictors_test_rf)\n",
    "\n",
    "accuracy_gbm = accuracy_score(response_test_rf, response_gbm)\n",
    "precision_gbm = precision_score(response_test_rf, response_gbm)\n",
    "recall_gbm = recall_score(response_test_rf, response_gbm)\n",
    "kappa_gbm = cohen_kappa_score(response_test_rf, response_gbm)\n",
    "\n",
    "cm_gbm = confusion_matrix(response_test_rf, response_gbm)"
   ],
   "id": "4f989e32857ceacd",
   "outputs": [],
   "execution_count": 29
  },
  {
   "metadata": {},
   "cell_type": "markdown",
   "source": [
    "# Comparison\n",
    "\n",
    "## Confusion Matrix"
   ],
   "id": "397cd868b7fd3fa"
  },
  {
   "metadata": {
    "ExecuteTime": {
     "end_time": "2024-10-23T14:47:59.936217Z",
     "start_time": "2024-10-23T14:47:59.358459Z"
    }
   },
   "cell_type": "code",
   "source": [
    "fig, axes = plt.subplots(1, 4, figsize=(20, 5), sharey=True)\n",
    "\n",
    "sns.heatmap(cm_SVM, annot=True, fmt='d', cmap='Blues', ax=axes[0], xticklabels=['Pred Dislike', 'Pred Like'], yticklabels=['True Dislike', 'True Like'], cbar=False)\n",
    "axes[0].set_title('Gaussian SVM')\n",
    "axes[0].set_xlabel('Predicted')\n",
    "axes[0].set_ylabel('True')\n",
    "\n",
    "sns.heatmap(cm_Regr, annot=True, fmt='d', cmap='Blues', ax=axes[1], xticklabels=['Pred Dislike', 'Pred Like'], yticklabels=['True Dislike', 'True Like'], cbar=False)\n",
    "axes[1].set_title('Linear Regression')\n",
    "axes[1].set_xlabel('Predicted')\n",
    "\n",
    "sns.heatmap(cm_rf, annot=True, fmt='d', cmap='Blues', ax=axes[2], xticklabels=['Pred Dislike', 'Pred Like'], yticklabels=['True Dislike', 'True Like'], cbar=False)\n",
    "axes[2].set_title('Random Forest')\n",
    "axes[2].set_xlabel('Predicted')\n",
    "\n",
    "sns.heatmap(cm_gbm, annot=True, fmt='d', cmap='Blues', ax=axes[3], xticklabels=['Pred Dislike', 'Pred Like'], yticklabels=['True Dislike', 'True Like'], cbar=False)\n",
    "axes[3].set_title('Gradient boosting')\n",
    "axes[3].set_xlabel('Predicted')\n",
    "\n",
    "# Adjust layout\n",
    "plt.tight_layout()\n",
    "plt.savefig('ConfusionMatrix_comparison.eps', format='eps')\n",
    "plt.show()"
   ],
   "id": "333689642c1c52",
   "outputs": [
    {
     "data": {
      "text/plain": [
       "<Figure size 2000x500 with 4 Axes>"
      ],
      "image/png": "[encoded data removed]"
     },
     "metadata": {},
     "output_type": "display_data"
    }
   ],
   "execution_count": 30
  },
  {
   "metadata": {},
   "cell_type": "markdown",
   "source": "## Performance Metrics",
   "id": "ce5c38f6f91a5902"
  },
  {
   "metadata": {
    "ExecuteTime": {
     "end_time": "2024-10-23T14:48:03.989883Z",
     "start_time": "2024-10-23T14:48:03.982452Z"
    }
   },
   "cell_type": "code",
   "source": [
    "metrics_table = {\n",
    "    \"Model\": [\"Gaussian SVM\", \"Linear Regression\", \"Random Forest\", \"Gradient Boosting\"],\n",
    "    \"Accuracy (\\\\%)\": [accuracy_svm*100, accuracy_regr*100, accuracy_rf*100, accuracy_gbm*100],\n",
    "    \"Precision (\\\\%)\": [precision_svm*100, precision_regr*100, precision_rf*100, precision_gbm*100],\n",
    "    \"Recall (\\\\%)\": [recall_svm*100, recall_regr*100, recall_rf*100, recall_gbm*100],\n",
    "    \"Kappa\": [kappa_svm, kappa_regr, kappa_rf, kappa_gbm]\n",
    "}\n",
    "\n",
    "# Output to latex\n",
    "df_metrics = pd.DataFrame(metrics_table)\n",
    "print(df_metrics)"
   ],
   "id": "e9697efce7e0936c",
   "outputs": [
    {
     "name": "stdout",
     "output_type": "stream",
     "text": [
      "               Model  Accuracy (\\%)  Precision (\\%)  Recall (\\%)     Kappa\n",
      "0       Gaussian SVM      85.148515       90.243902    77.083333  0.700178\n",
      "1  Linear Regression      86.138614       86.956522    83.333333  0.721544\n",
      "2      Random Forest      77.227723       78.048780    69.565217  0.536790\n",
      "3  Gradient Boosting      74.257426       81.250000    56.521739  0.467775\n"
     ]
    }
   ],
   "execution_count": 31
  },
  {
   "metadata": {
    "ExecuteTime": {
     "end_time": "2024-10-23T14:48:05.398754Z",
     "start_time": "2024-10-23T14:48:05.323701Z"
    }
   },
   "cell_type": "code",
   "source": [
    "# Table for report\n",
    "latex_table = df_metrics.to_latex(index=False, float_format=\"%.2f\", caption=\"Summary of Classifier Performance\", label=\"tab:performance_metrics\", position='h')\n",
    "latex_table = latex_table.replace('\\\\begin{table}[h]', '\\\\begin{table}[h]\\n\\\\centering')\n",
    "print(latex_table)"
   ],
   "id": "8d5a6192a18e5ee9",
   "outputs": [
    {
     "name": "stdout",
     "output_type": "stream",
     "text": [
      "\\begin{table}[h]\n",
      "\\centering\n",
      "\\caption{Summary of Classifier Performance}\n",
      "\\label{tab:performance_metrics}\n",
      "\\begin{tabular}{lrrrr}\n",
      "\\toprule\n",
      "Model & Accuracy (\\%) & Precision (\\%) & Recall (\\%) & Kappa \\\\\n",
      "\\midrule\n",
      "Gaussian SVM & 85.15 & 90.24 & 77.08 & 0.70 \\\\\n",
      "Linear Regression & 86.14 & 86.96 & 83.33 & 0.72 \\\\\n",
      "Random Forest & 77.23 & 78.05 & 69.57 & 0.54 \\\\\n",
      "Gradient Boosting & 74.26 & 81.25 & 56.52 & 0.47 \\\\\n",
      "\\bottomrule\n",
      "\\end{tabular}\n",
      "\\end{table}\n",
      "\n"
     ]
    }
   ],
   "execution_count": 32
  },
  {
   "metadata": {},
   "cell_type": "code",
   "outputs": [],
   "execution_count": null,
   "source": "",
   "id": "11ce9dfe1d19df08"
  }
 ],
 "metadata": {
  "kernelspec": {
   "display_name": "Python 3",
   "language": "python",
   "name": "python3"
  },
  "language_info": {
   "codemirror_mode": {
    "name": "ipython",
    "version": 2
   },
   "file_extension": ".py",
   "mimetype": "text/x-python",
   "name": "python",
   "nbconvert_exporter": "python",
   "pygments_lexer": "ipython2",
   "version": "2.7.6"
  }
 },
 "nbformat": 4,
 "nbformat_minor": 5
}

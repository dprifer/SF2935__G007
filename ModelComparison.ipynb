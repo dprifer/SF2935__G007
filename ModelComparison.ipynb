{
 "cells": [
  {
   "cell_type": "markdown",
   "id": "825c306ef3a4ea9c",
   "metadata": {},
   "source": [
    "# Gaussian (RBF kernel) SVM Model"
   ]
  },
  {
   "cell_type": "code",
   "execution_count": 1,
   "id": "980f0cac7bb4568a",
   "metadata": {
    "ExecuteTime": {
     "end_time": "2024-10-25T13:12:08.124327Z",
     "start_time": "2024-10-25T13:12:07.944945Z"
    }
   },
   "outputs": [],
   "source": [
    "import pandas as pd\n",
    "import numpy as np\n",
    "from scipy.special import logit\n",
    "from sklearn import preprocessing\n",
    "from sklearn.svm import SVC\n",
    "from sklearn.model_selection import train_test_split, KFold, cross_val_score\n",
    "from sklearn.metrics import accuracy_score, precision_score, recall_score, cohen_kappa_score, confusion_matrix, make_scorer\n",
    "from sklearn.linear_model import LogisticRegression\n",
    "from sklearn.feature_selection import SequentialFeatureSelector\n",
    "from sklearn.ensemble import RandomForestClassifier, GradientBoostingClassifier\n",
    "from sklearn.inspection import DecisionBoundaryDisplay\n",
    "from sklearn import tree\n",
    "from matplotlib.colors import ListedColormap\n",
    "\n",
    "import matplotlib.pyplot as plt\n",
    "import seaborn as sns"
   ]
  },
  {
   "cell_type": "code",
   "execution_count": 2,
   "id": "5aee7ddba80a1340",
   "metadata": {
    "ExecuteTime": {
     "end_time": "2024-10-25T13:12:09.131637Z",
     "start_time": "2024-10-25T13:12:09.128118Z"
    }
   },
   "outputs": [],
   "source": [
    "test_size = 0.2\n",
    "seed = 0"
   ]
  },
  {
   "cell_type": "code",
   "execution_count": 3,
   "id": "c924a062597ee765",
   "metadata": {
    "ExecuteTime": {
     "end_time": "2024-10-25T13:12:10.259988Z",
     "start_time": "2024-10-25T13:12:10.225836Z"
    }
   },
   "outputs": [],
   "source": [
    "# Load, transform and scale data\n",
    "train_file_path = 'project_train.csv'\n",
    "\n",
    "data_train = pd.read_csv(train_file_path)\n",
    "\n",
    "features_needed = ['speechiness', 'liveness', 'energy', 'loudness', 'valence']\n",
    "\n",
    "training_set = data_train[features_needed + ['Label']]\n",
    "\n",
    "rows_to_remove = [68, 84, 94]  # 68: speechiness outlier, 84: energy false data, 94: loudness false data\n",
    "\n",
    "training_set = training_set.drop(rows_to_remove)\n",
    "training_set = training_set.reset_index(drop=True)\n",
    "\n",
    "vars_to_transform = [\n",
    "    \"energy\",\n",
    "    \"speechiness\",\n",
    "    \"liveness\",\n",
    "    \"valence\",\n",
    "]\n",
    "\n",
    "training_set_transformed = training_set.copy()\n",
    "training_set_transformed[vars_to_transform] = training_set_transformed[vars_to_transform].transform(logit)\n",
    "training_set_transformed[vars_to_transform + ['loudness']] = preprocessing.scale(training_set_transformed[vars_to_transform + ['loudness']])\n",
    "\n",
    "# Split to test and train set, train model and predict\n",
    "predictors_train_svm, predictors_test_svm, response_train_svm, response_test_svm = train_test_split(training_set_transformed[features_needed], training_set_transformed['Label'], test_size=test_size, random_state=seed)\n",
    "\n",
    "model = SVC(kernel='rbf', random_state=0, C=1, gamma=1)\n",
    "model.fit(predictors_train_svm, response_train_svm)\n",
    "\n",
    "response_svm = model.predict(predictors_test_svm)\n",
    "\n",
    "accuracy_svm = accuracy_score(response_test_svm, response_svm)\n",
    "precision_svm = precision_score(response_test_svm, response_svm)\n",
    "recall_svm = recall_score(response_test_svm, response_svm)\n",
    "kappa_svm = cohen_kappa_score(response_test_svm, response_svm)\n",
    "\n",
    "# Compute confusion matrix\n",
    "cm_SVM = confusion_matrix(response_test_svm, response_svm)"
   ]
  },
  {
   "cell_type": "markdown",
   "id": "57783b473fbe55bb",
   "metadata": {},
   "source": [
    "# Regression model"
   ]
  },
  {
   "cell_type": "code",
   "execution_count": 4,
   "id": "f0c502c9",
   "metadata": {},
   "outputs": [],
   "source": [
    "selected_variables = [\n",
    "    \"energy acousticness\",\n",
    "    \"loudness speechiness\",\n",
    "    \"energy instrumentalness\",\n",
    "    \"loudness valence\",\n",
    "    \"danceability\",\n",
    "    \"energy liveness\",\n",
    "    \"speechiness\",\n",
    "    \"speechiness tempo\",\n",
    "    \"energy loudness\",\n",
    "    \"danceability^2\",\n",
    "    \"key_6\",\n",
    "    \"mode_1\",\n",
    "    \"tempo\",\n",
    "    \"instrumentalness liveness\",\n",
    "    \"key_10\",\n",
    "    \"valence^2\",\n",
    "    \"energy speechiness\",\n",
    "    \"danceability tempo\",\n",
    "    \"danceability instrumentalness\",\n",
    "    \"loudness instrumentalness\",\n",
    "    \"instrumentalness tempo\",\n",
    "    \"instrumentalness\",\n",
    "    \"energy tempo\",\n",
    "    \"key_8\",\n",
    "    \"speechiness^2\",\n",
    "    \"energy\",\n",
    "    \"acousticness\",\n",
    "    \"acousticness^2\",\n",
    "    \"key_4\",\n",
    "    \"speechiness liveness\",\n",
    "]\n",
    "\n",
    "best_C = 2.0"
   ]
  },
  {
   "cell_type": "code",
   "execution_count": 5,
   "id": "47f4d52a33f3d505",
   "metadata": {
    "ExecuteTime": {
     "end_time": "2024-10-23T14:47:19.025349Z",
     "start_time": "2024-10-23T14:47:04.156268Z"
    }
   },
   "outputs": [],
   "source": [
    "def generate_train_test_split(df, vars_to_drop=[]):\n",
    "    \"\"\"\n",
    "    This function generates a (seeded) 80/20 train test split for the spotify data with the categorical \"key\" and \"mode\" are\n",
    "    transformed to dummy variables, with no interaction terms included.\n",
    "\n",
    "    Params:\n",
    "    -------\n",
    "    df : pandas.DataFrame\n",
    "        The columns should include each of the columns of the original data frame of song data.\n",
    "    vars_to_drop : list\n",
    "        A list of labels containing variables not to be included in the model.\n",
    "\n",
    "    Returns:\n",
    "    --------\n",
    "    (pandas.DataFrame, pandas.DataFrame, pandas.Series, pandas.Series):\n",
    "        A sequence of four data frames/series with the first two being the training and testing predictors\n",
    "        and the last two being the labels of the training data and testing data.\n",
    "    \"\"\"\n",
    "\n",
    "    all_predictors = df.drop(vars_to_drop + [\"Label\"], axis=1)\n",
    "    response = df[\"Label\"]\n",
    "\n",
    "    # We drop_first because one of the variables in each of key,\n",
    "    # mode is determined by the values of the others\n",
    "    # (for example mode != 0 implies mode = 1)\n",
    "    encoded_data = pd.get_dummies(\n",
    "        all_predictors, columns=[\"key\", \"mode\"], drop_first=True\n",
    "    )\n",
    "    return train_test_split(\n",
    "        encoded_data, response, test_size=test_size, random_state=seed\n",
    "    )\n",
    "\n",
    "\n",
    "## Data import and processing\n",
    "#############################\n",
    "\n",
    "train_file_path = \"project_train.csv\"\n",
    "data_train = pd.read_csv(train_file_path)\n",
    "rows_to_remove = [68, 84, 94]  # 84: energy false data, 94: loudness false data\n",
    "\n",
    "data = data_train.drop(rows_to_remove)\n",
    "data = data.reset_index(drop=True)\n",
    "\n",
    "vars_to_transform = [\n",
    "    \"danceability\",\n",
    "    \"energy\",\n",
    "    \"speechiness\",\n",
    "    \"acousticness\",\n",
    "    \"liveness\",\n",
    "    \"valence\",\n",
    "]\n",
    "\n",
    "transformed_data = data.copy()\n",
    "transformed_data[vars_to_transform] = transformed_data[vars_to_transform].transform(\n",
    "    logit\n",
    ")\n",
    "\n",
    "scaled_data = transformed_data.copy()\n",
    "scaled_data[vars_to_transform + [\"loudness\", \"tempo\"]] = preprocessing.scale(\n",
    "    scaled_data[vars_to_transform + [\"loudness\", \"tempo\"]]\n",
    ")\n",
    "\n",
    "continuous_variables = [\n",
    "    \"danceability\",\n",
    "    \"energy\",\n",
    "    \"loudness\",\n",
    "    \"speechiness\",\n",
    "    \"acousticness\",\n",
    "    \"instrumentalness\",\n",
    "    \"liveness\",\n",
    "    \"valence\",\n",
    "    \"tempo\",\n",
    "]\n",
    "categorical_variables = [\"key\", \"mode\"]\n",
    "\n",
    "# We fit a model including all the variables in the previous models, all products of continuous variables (including squared variables) and an intercept.\n",
    "poly = preprocessing.PolynomialFeatures(2)\n",
    "continuous_interactions = pd.DataFrame(\n",
    "    poly.fit_transform(scaled_data[continuous_variables]),\n",
    "    columns=poly.get_feature_names_out(),\n",
    ")\n",
    "\n",
    "interaction_data = continuous_interactions.combine_first(scaled_data)\n",
    "interaction_data = interaction_data.reindex(\n",
    "    continuous_interactions.columns.to_list() + categorical_variables + [\"Label\"],\n",
    "    axis=1,\n",
    ")\n",
    "\n",
    "# Scaling\n",
    "scaled_interaction_data = interaction_data.copy()\n",
    "scaled_interaction_data[interaction_data.columns[:-3]] = preprocessing.scale(\n",
    "    scaled_interaction_data[interaction_data.columns[:-3]]\n",
    ")\n",
    "\n",
    "predictors_train_regr, predictors_test_regr, response_train_regr, response_test_regr = (\n",
    "    generate_train_test_split(scaled_interaction_data)\n",
    ")\n",
    "\n",
    "# Sequentially Selected Model\n",
    "predictors_train_regr, predictors_test_regr = (\n",
    "    p[selected_variables] for p in (predictors_train_regr, predictors_test_regr)\n",
    ")\n",
    "scaled_interaction_model = LogisticRegression(C=best_C)\n",
    "scaled_interaction_model.fit(predictors_train_regr, response_train_regr)\n",
    "response_regr = scaled_interaction_model.predict(predictors_test_regr)\n",
    "\n",
    "accuracy_regr = accuracy_score(response_test_regr, response_regr)\n",
    "precision_regr = precision_score(response_test_regr, response_regr)\n",
    "recall_regr = recall_score(response_test_regr, response_regr)\n",
    "kappa_regr = cohen_kappa_score(response_test_regr, response_regr)\n",
    "\n",
    "# Compute confusion matrix\n",
    "cm_Regr = confusion_matrix(response_test_regr, response_regr)"
   ]
  },
  {
   "cell_type": "markdown",
   "id": "cbefe6468c8436c8",
   "metadata": {},
   "source": [
    "# Random forest"
   ]
  },
  {
   "cell_type": "code",
   "execution_count": 6,
   "id": "7b7a77ea85d1dcee",
   "metadata": {
    "ExecuteTime": {
     "end_time": "2024-10-23T14:47:34.062824Z",
     "start_time": "2024-10-23T14:47:33.942932Z"
    }
   },
   "outputs": [],
   "source": [
    "train_df = pd.read_csv(\"project_train.csv\")\n",
    "\n",
    "rows_to_remove = [68, 84, 94]  # 68: speechiness outlier, 84: energy false data, 94: loudness false data\n",
    "\n",
    "train_df = train_df.drop(rows_to_remove)\n",
    "train_df = train_df.reset_index(drop=True)\n",
    "\n",
    "# Transformation and scaling\n",
    "vars_to_transform = [\"danceability\",\"energy\",\"speechiness\",\"acousticness\",\"liveness\",\"valence\"]\n",
    "\n",
    "train_df[vars_to_transform] = train_df[vars_to_transform].transform(logit)\n",
    "train_df[vars_to_transform + ['loudness','tempo']] = preprocessing.scale(train_df[vars_to_transform + ['loudness','tempo']])\n",
    "\n",
    "predictors_train_tree, predictors_test_tree, response_train_tree, response_test_tree = train_test_split(train_df.drop(columns=['Label']), \n",
    "                                                                                                        train_df['Label'], \n",
    "                                                                                                        test_size=test_size, \n",
    "                                                                                                        random_state=seed)\n",
    "# Create the Random Forest model\n",
    "model_rf = RandomForestClassifier(max_depth= None, min_samples_leaf= 3, n_estimators= 75, random_state=0)\n",
    "model_rf.fit(predictors_train_tree, response_train_tree)                   # Fit the model\n",
    "   \n",
    "# Predict on the test data\n",
    "response_rf = model_rf.predict(predictors_test_tree)\n",
    "\n",
    "accuracy_rf = accuracy_score(response_test_tree, response_rf)\n",
    "precision_rf = precision_score(response_test_tree, response_rf)\n",
    "recall_rf = recall_score(response_test_tree, response_rf)\n",
    "kappa_rf = cohen_kappa_score(response_test_tree, response_rf)\n",
    "\n",
    "cm_rf = confusion_matrix(response_test_tree, response_rf)"
   ]
  },
  {
   "cell_type": "markdown",
   "id": "377afcd9b0d7148d",
   "metadata": {},
   "source": [
    "# Gradient boosting"
   ]
  },
  {
   "cell_type": "code",
   "execution_count": 7,
   "id": "4f989e32857ceacd",
   "metadata": {
    "ExecuteTime": {
     "end_time": "2024-10-23T14:47:55.532802Z",
     "start_time": "2024-10-23T14:47:54.941625Z"
    }
   },
   "outputs": [],
   "source": [
    "clf_gbm = GradientBoostingClassifier(learning_rate = 0.1, max_depth=3, n_estimators = 125, random_state=seed)\n",
    "clf_gbm = clf_gbm.fit(predictors_train_tree, response_train_tree)\n",
    "response_gbm = clf_gbm.predict(predictors_test_tree)\n",
    "\n",
    "accuracy_gbm = accuracy_score(response_test_tree, response_gbm)\n",
    "precision_gbm = precision_score(response_test_tree, response_gbm)\n",
    "recall_gbm = recall_score(response_test_tree, response_gbm)\n",
    "kappa_gbm = cohen_kappa_score(response_test_tree, response_gbm)\n",
    "\n",
    "cm_gbm = confusion_matrix(response_test_tree, response_gbm)"
   ]
  },
  {
   "cell_type": "markdown",
   "id": "397cd868b7fd3fa",
   "metadata": {},
   "source": [
    "# Comparison\n",
    "\n",
    "## Confusion Matrix"
   ]
  },
  {
   "cell_type": "code",
   "execution_count": 8,
   "id": "333689642c1c52",
   "metadata": {
    "ExecuteTime": {
     "end_time": "2024-10-23T14:47:59.936217Z",
     "start_time": "2024-10-23T14:47:59.358459Z"
    }
   },
   "outputs": [
    {
     "data": {
      "image/png": "[encoded data removed]",
      "text/plain": [
       "<Figure size 2000x500 with 4 Axes>"
      ]
     },
     "metadata": {},
     "output_type": "display_data"
    }
   ],
   "source": [
    "fig, axes = plt.subplots(1, 4, figsize=(20, 5), sharey=True)\n",
    "\n",
    "sns.heatmap(cm_SVM, annot=True, fmt='d', cmap='Blues', ax=axes[0], xticklabels=['Pred Dislike', 'Pred Like'], yticklabels=['True Dislike', 'True Like'], cbar=False)\n",
    "axes[0].set_title('Gaussian SVM')\n",
    "axes[0].set_xlabel('Predicted')\n",
    "axes[0].set_ylabel('True')\n",
    "\n",
    "sns.heatmap(cm_Regr, annot=True, fmt='d', cmap='Blues', ax=axes[1], xticklabels=['Pred Dislike', 'Pred Like'], yticklabels=['True Dislike', 'True Like'], cbar=False)\n",
    "axes[1].set_title('Linear Regression')\n",
    "axes[1].set_xlabel('Predicted')\n",
    "\n",
    "sns.heatmap(cm_rf, annot=True, fmt='d', cmap='Blues', ax=axes[2], xticklabels=['Pred Dislike', 'Pred Like'], yticklabels=['True Dislike', 'True Like'], cbar=False)\n",
    "axes[2].set_title('Random Forest')\n",
    "axes[2].set_xlabel('Predicted')\n",
    "\n",
    "sns.heatmap(cm_gbm, annot=True, fmt='d', cmap='Blues', ax=axes[3], xticklabels=['Pred Dislike', 'Pred Like'], yticklabels=['True Dislike', 'True Like'], cbar=False)\n",
    "axes[3].set_title('Gradient boosting')\n",
    "axes[3].set_xlabel('Predicted')\n",
    "\n",
    "# Adjust layout\n",
    "plt.tight_layout()\n",
    "plt.savefig('ConfusionMatrix_comparison.eps', format='eps')\n",
    "plt.show()"
   ]
  },
  {
   "cell_type": "markdown",
   "id": "ce5c38f6f91a5902",
   "metadata": {},
   "source": [
    "## Performance Metrics"
   ]
  },
  {
   "cell_type": "code",
   "execution_count": 9,
   "id": "e9697efce7e0936c",
   "metadata": {
    "ExecuteTime": {
     "end_time": "2024-10-23T14:48:03.989883Z",
     "start_time": "2024-10-23T14:48:03.982452Z"
    }
   },
   "outputs": [
    {
     "name": "stdout",
     "output_type": "stream",
     "text": [
      "               Model  Accuracy (\\%)  Precision (\\%)  Recall (\\%)     Kappa\n",
      "0       Gaussian SVM      82.178218       89.473684    70.833333  0.639143\n",
      "1  Linear Regression      83.168317       84.444444    79.166667  0.661541\n",
      "2      Random Forest      85.148515       88.372093    79.166667  0.700770\n",
      "3  Gradient Boosting      91.089109       95.348837    85.416667  0.820462\n"
     ]
    }
   ],
   "source": [
    "metrics_table = {\n",
    "    \"Model\": [\"Gaussian SVM\", \"Linear Regression\", \"Random Forest\", \"Gradient Boosting\"],\n",
    "    \"Accuracy (\\\\%)\": [accuracy_svm*100, accuracy_regr*100, accuracy_rf*100, accuracy_gbm*100],\n",
    "    \"Precision (\\\\%)\": [precision_svm*100, precision_regr*100, precision_rf*100, precision_gbm*100],\n",
    "    \"Recall (\\\\%)\": [recall_svm*100, recall_regr*100, recall_rf*100, recall_gbm*100],\n",
    "    \"Kappa\": [kappa_svm, kappa_regr, kappa_rf, kappa_gbm]\n",
    "}\n",
    "\n",
    "# Output to latex\n",
    "df_metrics = pd.DataFrame(metrics_table)\n",
    "print(df_metrics)"
   ]
  },
  {
   "cell_type": "code",
   "execution_count": 10,
   "id": "8d5a6192a18e5ee9",
   "metadata": {
    "ExecuteTime": {
     "end_time": "2024-10-23T14:48:05.398754Z",
     "start_time": "2024-10-23T14:48:05.323701Z"
    }
   },
   "outputs": [
    {
     "name": "stdout",
     "output_type": "stream",
     "text": [
      "\\begin{table}[h]\n",
      "\\centering\n",
      "\\caption{Summary of Classifier Performance}\n",
      "\\label{tab:performance_metrics}\n",
      "\\begin{tabular}{lrrrr}\n",
      "\\toprule\n",
      "Model & Accuracy (\\%) & Precision (\\%) & Recall (\\%) & Kappa \\\\\n",
      "\\midrule\n",
      "Gaussian SVM & 82.18 & 89.47 & 70.83 & 0.64 \\\\\n",
      "Linear Regression & 83.17 & 84.44 & 79.17 & 0.66 \\\\\n",
      "Random Forest & 85.15 & 88.37 & 79.17 & 0.70 \\\\\n",
      "Gradient Boosting & 91.09 & 95.35 & 85.42 & 0.82 \\\\\n",
      "\\bottomrule\n",
      "\\end{tabular}\n",
      "\\end{table}\n",
      "\n"
     ]
    }
   ],
   "source": [
    "# Table for report\n",
    "latex_table = df_metrics.to_latex(index=False, float_format=\"%.2f\", caption=\"Summary of Classifier Performance\", label=\"tab:performance_metrics\", position='h')\n",
    "latex_table = latex_table.replace('\\\\begin{table}[h]', '\\\\begin{table}[h]\\n\\\\centering')\n",
    "print(latex_table)"
   ]
  },
  {
   "cell_type": "markdown",
   "id": "11ce9dfe1d19df08",
   "metadata": {},
   "source": [
    "## Cross-Validation Results:"
   ]
  },
  {
   "cell_type": "code",
   "execution_count": 11,
   "id": "aeba808a",
   "metadata": {},
   "outputs": [],
   "source": [
    "def encode_data(df, vars_to_drop=[]):\n",
    "\n",
    "    all_predictors = df.drop(vars_to_drop + [\"Label\"], axis=1)\n",
    "    response = df[\"Label\"]\n",
    "\n",
    "    # We drop_first because one of the variables in each of key,\n",
    "    # mode is determined by the values of the others\n",
    "    # (for example mode != 0 implies mode = 1)\n",
    "    encoded_data = pd.get_dummies(\n",
    "        all_predictors, columns=[\"key\", \"mode\"], drop_first=True, dtype=float\n",
    "    )\n",
    "\n",
    "    return encoded_data, response"
   ]
  },
  {
   "cell_type": "code",
   "execution_count": 12,
   "id": "e432232d",
   "metadata": {},
   "outputs": [],
   "source": [
    "# SVM\n",
    "data_train = pd.read_csv(train_file_path)\n",
    "\n",
    "features_needed = [\"speechiness\", \"liveness\", \"energy\", \"loudness\", \"valence\"]\n",
    "\n",
    "training_set = data_train[features_needed + [\"Label\"]]\n",
    "\n",
    "rows_to_remove = [\n",
    "    68,\n",
    "    84,\n",
    "    94,\n",
    "]  # 68: speechiness outlier, 84: energy false data, 94: loudness false data\n",
    "\n",
    "training_set = training_set.drop(rows_to_remove)\n",
    "training_set = training_set.reset_index(drop=True)\n",
    "\n",
    "vars_to_transform = [\n",
    "    \"energy\",\n",
    "    \"speechiness\",\n",
    "    \"liveness\",\n",
    "    \"valence\",\n",
    "]\n",
    "\n",
    "training_set_transformed = training_set.copy()\n",
    "training_set_transformed[vars_to_transform] = training_set_transformed[\n",
    "    vars_to_transform\n",
    "].transform(logit)\n",
    "training_set_transformed[vars_to_transform + [\"loudness\"]] = preprocessing.scale(\n",
    "    training_set_transformed[vars_to_transform + [\"loudness\"]]\n",
    ")\n",
    "\n",
    "# Split to test and train set, train model and predict\n",
    "predictors_full_SVM, response_full_SVM = (\n",
    "    training_set_transformed[features_needed],\n",
    "    training_set_transformed[\"Label\"],\n",
    ")\n",
    "\n",
    "model_SVM = SVC(kernel=\"rbf\", random_state=0, C=1, gamma=1)\n",
    "\n",
    "\n",
    "# REGRESSION:\n",
    "# model.fit(predictors_train, response_train)\n",
    "predictors_full_regression, response_full_regression = encode_data(\n",
    "    scaled_interaction_data\n",
    ")\n",
    "\n",
    "\n",
    "predictors_full_regression = predictors_full_regression[selected_variables]\n",
    "model_reg = LogisticRegression(C=best_C)\n",
    "\n",
    "\n",
    "# RANDOM FOREST\n",
    "# Change values in mislabeled rows\n",
    "train_df = data_train.copy()\n",
    "rows_to_remove = [\n",
    "    68,\n",
    "    84,\n",
    "    94,\n",
    "]  # 68: speechiness outlier, 84: energy false data, 94: loudness false data\n",
    "\n",
    "train_df = train_df.drop(rows_to_remove)\n",
    "train_df = train_df.reset_index(drop=True)\n",
    "\n",
    "# Transformation and scaling\n",
    "vars_to_transform = [\n",
    "    \"danceability\",\n",
    "    \"energy\",\n",
    "    \"speechiness\",\n",
    "    \"acousticness\",\n",
    "    \"liveness\",\n",
    "    \"valence\",\n",
    "]\n",
    "\n",
    "train_df[vars_to_transform] = train_df[vars_to_transform].transform(logit)\n",
    "train_df[vars_to_transform + [\"loudness\", \"tempo\"]] = preprocessing.scale(\n",
    "    train_df[vars_to_transform + [\"loudness\", \"tempo\"]]\n",
    ")\n",
    "\n",
    "predictors_full_rf, response_full_rf = (\n",
    "        train_df.drop(columns=[\"Label\"]),\n",
    "        train_df[\"Label\"]\n",
    ")\n",
    "\n",
    "#RANDOM FOREST\n",
    "model_rf = RandomForestClassifier(\n",
    "    max_depth=None, min_samples_leaf=3, n_estimators=75, random_state=0\n",
    ")\n",
    "\n",
    "# GRADIENT BOOSTING\n",
    "clf_gbm = GradientBoostingClassifier(\n",
    "    learning_rate=0.1, max_depth=3, n_estimators=125, random_state=seed\n",
    ")"
   ]
  },
  {
   "cell_type": "code",
   "execution_count": 13,
   "id": "0beae386",
   "metadata": {},
   "outputs": [],
   "source": [
    "metrics = [\"accuracy\", \"recall\", \"precision\", \"kappa\"]\n",
    "score_dict_template = {\"accuracy\": [], \"recall\": [], \"precision\": [], \"kappa\": []}\n",
    "metrics_dict = {\n",
    "    \"SVM\": score_dict_template.copy(),\n",
    "    \"Logistic Regression\": score_dict_template.copy(),\n",
    "    \"Random Forest\": score_dict_template.copy(),\n",
    "    \"Gradient Boosting\": score_dict_template.copy(),\n",
    "}"
   ]
  },
  {
   "cell_type": "code",
   "execution_count": 14,
   "id": "cdca1496",
   "metadata": {},
   "outputs": [],
   "source": [
    "cv = KFold(shuffle=True, random_state=0)\n",
    "kappa_scorer = make_scorer(cohen_kappa_score)\n",
    "for metric in metrics:\n",
    "    scorer = None\n",
    "    if metric == \"kappa\":\n",
    "        scorer = kappa_scorer\n",
    "    else:\n",
    "        scorer = metric\n",
    "    metrics_dict[\"SVM\"][metric] = cross_val_score(\n",
    "        model_SVM, predictors_full_SVM, response_full_SVM, scoring=scorer, cv=cv\n",
    "    )\n",
    "    metrics_dict[\"Logistic Regression\"][metric] = cross_val_score(\n",
    "        model_reg,\n",
    "        predictors_full_regression,\n",
    "        response_full_regression,\n",
    "        scoring=scorer,\n",
    "        cv=cv,\n",
    "    )\n",
    "    metrics_dict[\"Random Forest\"][metric] = cross_val_score(\n",
    "        model_rf,\n",
    "        predictors_full_rf,\n",
    "        response_full_rf,\n",
    "        scoring=scorer,\n",
    "        cv=cv,\n",
    "    )\n",
    "    metrics_dict[\"Gradient Boosting\"][metric] = cross_val_score(\n",
    "        clf_gbm,\n",
    "        predictors_full_rf,\n",
    "        response_full_rf,\n",
    "        scoring=scorer,\n",
    "        cv=cv,\n",
    "    )"
   ]
  },
  {
   "cell_type": "code",
   "execution_count": 15,
   "id": "53b67379",
   "metadata": {},
   "outputs": [
    {
     "data": {
      "image/png": "[encoded data removed]",
      "text/plain": [
       "<Figure size 1000x700 with 4 Axes>"
      ]
     },
     "metadata": {},
     "output_type": "display_data"
    }
   ],
   "source": [
    "plt.style.use(\"seaborn-v0_8-dark\")\n",
    "n_models = len(metrics_dict.keys())\n",
    "fig, ax = plt.subplots(2, 2, figsize=(10, 7))\n",
    "for i, metric in enumerate(metrics):\n",
    "\n",
    "    coords = (i % 2, i // 2)\n",
    "    for j in range(5):\n",
    "        x = []\n",
    "        y = []\n",
    "        ax[coords].scatter(\n",
    "            range(n_models),\n",
    "            [metrics_dict[c][metric][j] for c in metrics_dict.keys()],\n",
    "            label=\"Split \" + str(j + 1),\n",
    "        )\n",
    "    ax[coords].scatter(\n",
    "        range(n_models),\n",
    "        [np.mean(metrics_dict[c][metric]) for c in metrics_dict.keys()],\n",
    "        marker=\"x\",\n",
    "        color=\"black\",\n",
    "        label=\"Mean Value\",\n",
    "    )\n",
    "    ax[coords].set_ylim(0.4, 1.0)\n",
    "    ax[coords].set_xlim(-0.25, 3.5)\n",
    "\n",
    "    # l.set_title(\"Cross Validation Split\")\n",
    "    # Customize x-axis\n",
    "    ax[coords].set_xticks([])\n",
    "\n",
    "    # ax.set_xlabel(\"Categories\")\n",
    "    # ax[coords].set_ylabel(\"Accuracy\")\n",
    "    ax[coords].set_title(metric.capitalize())\n",
    "    # ax.title(\"Scatter Plot of Points by Category\")\n",
    "l = ax[1, 1].legend()\n",
    "ax[0, 1].set_yticks([])\n",
    "ax[1, 1].set_yticks([])\n",
    "ax[1, 0].set_xticks(range(len(metrics_dict.keys())), metrics_dict.keys())\n",
    "ax[1, 1].set_xticks(range(len(metrics_dict.keys())), metrics_dict.keys())\n",
    "\n",
    "fig.tight_layout()\n",
    "plt.savefig(\"accuracy-different-splits.pdf\", dpi=1000)\n",
    "plt.show()"
   ]
  }
 ],
 "metadata": {
  "kernelspec": {
   "display_name": "Python 3",
   "language": "python",
   "name": "python3"
  },
  "language_info": {
   "codemirror_mode": {
    "name": "ipython",
    "version": 3
   },
   "file_extension": ".py",
   "mimetype": "text/x-python",
   "name": "python",
   "nbconvert_exporter": "python",
   "pygments_lexer": "ipython3",
   "version": "3.12.5"
  }
 },
 "nbformat": 4,
 "nbformat_minor": 5
}

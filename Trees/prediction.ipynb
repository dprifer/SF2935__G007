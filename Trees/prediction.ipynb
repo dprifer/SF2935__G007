{
 "cells": [
  {
   "cell_type": "code",
   "execution_count": 12,
   "id": "aa50e1fa-0c68-4b5e-a116-52c99a4ffad8",
   "metadata": {},
   "outputs": [],
   "source": [
    "import pandas as pd\n",
    "import numpy as np\n",
    "from scipy.special import logit\n",
    "\n",
    "from sklearn.preprocessing import StandardScaler\n",
    "from sklearn.model_selection import train_test_split\n",
    "from sklearn.ensemble import GradientBoostingClassifier\n",
    "\n",
    "test_size = 0.2\n",
    "seed = 0\n",
    "\n",
    "train_df = pd.read_csv(\"project_train.csv\")\n",
    "rows_to_remove = [68, 84, 94]\n",
    "train_df = train_df.drop(rows_to_remove).reset_index(drop=True)\n",
    "vars_to_transform = [\"danceability\", \"energy\", \"speechiness\", \"acousticness\", \"liveness\", \"valence\"]\n",
    "train_df[vars_to_transform] = train_df[vars_to_transform].transform(logit)\n",
    "\n",
    "# Fit the scaler on the training data\n",
    "scaler = StandardScaler()\n",
    "train_df[vars_to_transform + ['loudness', 'tempo']] = scaler.fit_transform(train_df[vars_to_transform + ['loudness', 'tempo']])\n",
    "\n",
    "# Read and preprocess the test data\n",
    "test_df = pd.read_csv(\"project_test.csv\")\n",
    "\n",
    "# Apply the same logit transformation to the test data\n",
    "test_df[vars_to_transform] = test_df[vars_to_transform].transform(logit)\n",
    "\n",
    "# Transform the test data using the fitted scaler\n",
    "test_df[vars_to_transform + ['loudness', 'tempo']] = scaler.transform(test_df[vars_to_transform + ['loudness', 'tempo']])\n",
    "\n",
    "\n",
    "# Gradient Boosting model\n",
    "clf_gbm = GradientBoostingClassifier(learning_rate=0.1, max_depth=3, n_estimators=125, random_state=0)\n",
    "clf_gbm.fit(train_df.drop(columns=['Label']), train_df['Label'])  # Fit model to entire training data\n",
    "\n",
    "# Predict on the transformed test data\n",
    "response_gbm = clf_gbm.predict(test_df)\n",
    "output_df = pd.DataFrame({'Predictions': response_gbm})\n",
    "\n",
    "# Save predictions to a csv file\n",
    "output_df.to_csv('predictions_gbm2.csv', index=False)"
   ]
  },
  {
   "cell_type": "code",
   "execution_count": null,
   "id": "6229fde3-d1c2-43ef-85fb-7639c2b09e47",
   "metadata": {},
   "outputs": [],
   "source": []
  }
 ],
 "metadata": {
  "kernelspec": {
   "display_name": "Python 3 (ipykernel)",
   "language": "python",
   "name": "python3"
  },
  "language_info": {
   "codemirror_mode": {
    "name": "ipython",
    "version": 3
   },
   "file_extension": ".py",
   "mimetype": "text/x-python",
   "name": "python",
   "nbconvert_exporter": "python",
   "pygments_lexer": "ipython3",
   "version": "3.10.12"
  }
 },
 "nbformat": 4,
 "nbformat_minor": 5
}
